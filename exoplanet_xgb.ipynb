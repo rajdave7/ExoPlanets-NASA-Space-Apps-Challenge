{
 "cells": [
  {
   "cell_type": "markdown",
   "id": "838662ad",
   "metadata": {},
   "source": [
    "# Exoplanet XGBoost demo\n",
    "\n",
    "This notebook downloads small selected-column extracts of the KOI (Kepler), TOI (TESS), and K2 tables from the NASA Exoplanet Archive, standardizes columns, trains a simple XGBoost classifier on each dataset separately, evaluates results, and finally trains a model on the concatenation (combined dataset). \n",
    "\n",
    "**Notes**:\n",
    "- The notebook uses lightweight column selections to keep downloads small.\n",
    "- Labels are mapped to a binary target: **planet (1)** vs **not-planet / false positive (0)**.\n",
    "- Ambiguous/unknown dispositions are dropped.\n",
    "\n",
    "Run all cells. If you run this in a fresh environment you may need to install packages (the first cell does that)."
   ]
  },
  {
   "cell_type": "code",
   "execution_count": 1,
   "id": "78af3495",
   "metadata": {},
   "outputs": [
    {
     "name": "stdout",
     "output_type": "stream",
     "text": [
      "Packages installed/imported (or already present).\n"
     ]
    },
    {
     "name": "stderr",
     "output_type": "stream",
     "text": [
      "'c:\\Users\\RAJ' is not recognized as an internal or external command,\n",
      "operable program or batch file.\n"
     ]
    }
   ],
   "source": [
    "\n",
    "# Install required packages (only if not already installed)\n",
    "# You can comment this cell out if your environment already has these packages.\n",
    "import sys\n",
    "!{sys.executable} -m pip install --quiet pandas scikit-learn xgboost requests matplotlib seaborn nbformat joblib\n",
    "print(\"Packages installed/imported (or already present).\")\n"
   ]
  },
  {
   "cell_type": "code",
   "execution_count": 1,
   "id": "c4281a0e",
   "metadata": {},
   "outputs": [
    {
     "name": "stdout",
     "output_type": "stream",
     "text": [
      "Skipping download (already present): data/kepler_koi.csv\n",
      "Skipping download (already present): data/tess_toi.csv\n",
      "Downloads complete. Files in data/: ['k2pandc.csv', 'kepler_koi.csv', 'kepler_koi_33.csv', 'kepler_koi_cumulative.csv', 'tess_toi.csv']\n"
     ]
    }
   ],
   "source": [
    "\n",
    "# Download selected columns for KOI, TOI, and K2 using TAP sync endpoint.\n",
    "# The requests library will handle URL quoting for us.\n",
    "import os, requests\n",
    "from requests.utils import requote_uri\n",
    "\n",
    "os.makedirs(\"data\", exist_ok=True)\n",
    "\n",
    "queries = {\n",
    "    \"kepler_koi\": \"select kepoi_name,koi_disposition,koi_pdisposition,koi_period,koi_duration,koi_prad,koi_depth,koi_model_snr from cumulative\",\n",
    "    \"tess_toi\":   \"select toi,tfopwg_disp,pl_orbper,pl_trandurh,pl_trandep,pl_rade,st_teff,st_rad from toi\",\n",
    "    # \"k2_pandc\":   \"select pl_name,disposition,pl_orbper,pl_trandur,pl_trandepl,pl_rade,st_teff,st_rad from k2pandc\"\n",
    "}\n",
    "\n",
    "base = \"https://exoplanetarchive.ipac.caltech.edu/TAP/sync?format=csv&query=\"\n",
    "\n",
    "for name, q in queries.items():\n",
    "    out = f\"data/{name}.csv\"\n",
    "    if os.path.exists(out) and os.path.getsize(out) > 100:\n",
    "        print(f\"Skipping download (already present): {out}\")\n",
    "        continue\n",
    "    url = base + requote_uri(q)\n",
    "    print(\"Downloading\", name, \"->\", out)\n",
    "    r = requests.get(url, timeout=300)\n",
    "    r.raise_for_status()\n",
    "    open(out, \"wb\").write(r.content)\n",
    "    print(\"Saved\", out)\n",
    "print(\"Downloads complete. Files in data/:\", os.listdir(\"data\"))\n"
   ]
  },
  {
   "cell_type": "code",
   "execution_count": 2,
   "id": "baa4646d",
   "metadata": {},
   "outputs": [
    {
     "name": "stdout",
     "output_type": "stream",
     "text": [
      "--- KOI ---\n",
      "Shape: (9564, 8)\n",
      "Columns: ['kepoi_name', 'koi_disposition', 'koi_pdisposition', 'koi_period', 'koi_duration', 'koi_prad', 'koi_depth', 'koi_model_snr']\n"
     ]
    },
    {
     "data": {
      "text/html": [
       "<div>\n",
       "<style scoped>\n",
       "    .dataframe tbody tr th:only-of-type {\n",
       "        vertical-align: middle;\n",
       "    }\n",
       "\n",
       "    .dataframe tbody tr th {\n",
       "        vertical-align: top;\n",
       "    }\n",
       "\n",
       "    .dataframe thead th {\n",
       "        text-align: right;\n",
       "    }\n",
       "</style>\n",
       "<table border=\"1\" class=\"dataframe\">\n",
       "  <thead>\n",
       "    <tr style=\"text-align: right;\">\n",
       "      <th></th>\n",
       "      <th>kepoi_name</th>\n",
       "      <th>koi_disposition</th>\n",
       "      <th>koi_pdisposition</th>\n",
       "      <th>koi_period</th>\n",
       "      <th>koi_duration</th>\n",
       "      <th>koi_prad</th>\n",
       "      <th>koi_depth</th>\n",
       "      <th>koi_model_snr</th>\n",
       "    </tr>\n",
       "  </thead>\n",
       "  <tbody>\n",
       "    <tr>\n",
       "      <th>0</th>\n",
       "      <td>K00752.01</td>\n",
       "      <td>CONFIRMED</td>\n",
       "      <td>CANDIDATE</td>\n",
       "      <td>9.488036</td>\n",
       "      <td>2.9575</td>\n",
       "      <td>2.26</td>\n",
       "      <td>615.8</td>\n",
       "      <td>35.8</td>\n",
       "    </tr>\n",
       "    <tr>\n",
       "      <th>1</th>\n",
       "      <td>K00752.02</td>\n",
       "      <td>CONFIRMED</td>\n",
       "      <td>CANDIDATE</td>\n",
       "      <td>54.418383</td>\n",
       "      <td>4.5070</td>\n",
       "      <td>2.83</td>\n",
       "      <td>874.8</td>\n",
       "      <td>25.8</td>\n",
       "    </tr>\n",
       "    <tr>\n",
       "      <th>2</th>\n",
       "      <td>K00753.01</td>\n",
       "      <td>CANDIDATE</td>\n",
       "      <td>CANDIDATE</td>\n",
       "      <td>19.899140</td>\n",
       "      <td>1.7822</td>\n",
       "      <td>14.60</td>\n",
       "      <td>10829.0</td>\n",
       "      <td>76.3</td>\n",
       "    </tr>\n",
       "  </tbody>\n",
       "</table>\n",
       "</div>"
      ],
      "text/plain": [
       "  kepoi_name koi_disposition koi_pdisposition  koi_period  koi_duration  \\\n",
       "0  K00752.01       CONFIRMED        CANDIDATE    9.488036        2.9575   \n",
       "1  K00752.02       CONFIRMED        CANDIDATE   54.418383        4.5070   \n",
       "2  K00753.01       CANDIDATE        CANDIDATE   19.899140        1.7822   \n",
       "\n",
       "   koi_prad  koi_depth  koi_model_snr  \n",
       "0      2.26      615.8           35.8  \n",
       "1      2.83      874.8           25.8  \n",
       "2     14.60    10829.0           76.3  "
      ]
     },
     "metadata": {},
     "output_type": "display_data"
    },
    {
     "name": "stdout",
     "output_type": "stream",
     "text": [
      "--- TOI ---\n",
      "Shape: (7703, 8)\n",
      "Columns: ['toi', 'tfopwg_disp', 'pl_orbper', 'pl_trandurh', 'pl_trandep', 'pl_rade', 'st_teff', 'st_rad']\n"
     ]
    },
    {
     "data": {
      "text/html": [
       "<div>\n",
       "<style scoped>\n",
       "    .dataframe tbody tr th:only-of-type {\n",
       "        vertical-align: middle;\n",
       "    }\n",
       "\n",
       "    .dataframe tbody tr th {\n",
       "        vertical-align: top;\n",
       "    }\n",
       "\n",
       "    .dataframe thead th {\n",
       "        text-align: right;\n",
       "    }\n",
       "</style>\n",
       "<table border=\"1\" class=\"dataframe\">\n",
       "  <thead>\n",
       "    <tr style=\"text-align: right;\">\n",
       "      <th></th>\n",
       "      <th>toi</th>\n",
       "      <th>tfopwg_disp</th>\n",
       "      <th>pl_orbper</th>\n",
       "      <th>pl_trandurh</th>\n",
       "      <th>pl_trandep</th>\n",
       "      <th>pl_rade</th>\n",
       "      <th>st_teff</th>\n",
       "      <th>st_rad</th>\n",
       "    </tr>\n",
       "  </thead>\n",
       "  <tbody>\n",
       "    <tr>\n",
       "      <th>0</th>\n",
       "      <td>1049.01</td>\n",
       "      <td>KP</td>\n",
       "      <td>2.180528</td>\n",
       "      <td>2.969175</td>\n",
       "      <td>16340.135320</td>\n",
       "      <td>16.808853</td>\n",
       "      <td>6599.0</td>\n",
       "      <td>1.27146</td>\n",
       "    </tr>\n",
       "    <tr>\n",
       "      <th>1</th>\n",
       "      <td>105.01</td>\n",
       "      <td>KP</td>\n",
       "      <td>2.184667</td>\n",
       "      <td>2.865280</td>\n",
       "      <td>11708.022855</td>\n",
       "      <td>13.702853</td>\n",
       "      <td>5630.0</td>\n",
       "      <td>1.23824</td>\n",
       "    </tr>\n",
       "    <tr>\n",
       "      <th>2</th>\n",
       "      <td>1050.01</td>\n",
       "      <td>KP</td>\n",
       "      <td>3.735484</td>\n",
       "      <td>4.142000</td>\n",
       "      <td>17030.000000</td>\n",
       "      <td>21.231500</td>\n",
       "      <td>6650.0</td>\n",
       "      <td>1.57000</td>\n",
       "    </tr>\n",
       "  </tbody>\n",
       "</table>\n",
       "</div>"
      ],
      "text/plain": [
       "       toi tfopwg_disp  pl_orbper  pl_trandurh    pl_trandep    pl_rade  \\\n",
       "0  1049.01          KP   2.180528     2.969175  16340.135320  16.808853   \n",
       "1   105.01          KP   2.184667     2.865280  11708.022855  13.702853   \n",
       "2  1050.01          KP   3.735484     4.142000  17030.000000  21.231500   \n",
       "\n",
       "   st_teff   st_rad  \n",
       "0   6599.0  1.27146  \n",
       "1   5630.0  1.23824  \n",
       "2   6650.0  1.57000  "
      ]
     },
     "metadata": {},
     "output_type": "display_data"
    }
   ],
   "source": [
    "\n",
    "import pandas as pd\n",
    "from pathlib import Path\n",
    "\n",
    "files = {\n",
    "    \"KOI\": Path(\"data/kepler_koi.csv\"),\n",
    "    \"TOI\": Path(\"data/tess_toi.csv\"),\n",
    "    # \"K2\": Path(\"data/k2_pandc.csv\")\n",
    "}\n",
    "\n",
    "for k, p in files.items():\n",
    "    print(f\"--- {k} ---\")\n",
    "    if not p.exists():\n",
    "        print(\"File missing:\", p)\n",
    "        continue\n",
    "    df = pd.read_csv(p)\n",
    "    print(\"Shape:\", df.shape)\n",
    "    print(\"Columns:\", df.columns.tolist())\n",
    "    display(df.head(3))\n"
   ]
  },
  {
   "cell_type": "code",
   "execution_count": 3,
   "id": "c23f1638",
   "metadata": {},
   "outputs": [
    {
     "name": "stdout",
     "output_type": "stream",
     "text": [
      "KOI standardized shape: (9564, 9)\n",
      "TOI standardized shape: (7703, 9)\n",
      "K2 standardized shape: (0, 0)\n",
      "KOI labels value counts (including NaN):\n",
      "label\n",
      "0    4839\n",
      "1    4725\n",
      "Name: count, dtype: int64\n",
      "TOI labels value counts (including NaN):\n",
      "label\n",
      "1      5262\n",
      "0      1197\n",
      "CP      684\n",
      "APC     462\n",
      "FA       98\n",
      "Name: count, dtype: int64\n"
     ]
    },
    {
     "name": "stderr",
     "output_type": "stream",
     "text": [
      "C:\\Users\\RAJ DAVE\\AppData\\Local\\Temp\\ipykernel_25016\\2786402607.py:11: FutureWarning: Downcasting behavior in `replace` is deprecated and will be removed in a future version. To retain the old behavior, explicitly call `result.infer_objects(copy=False)`. To opt-in to the future behavior, set `pd.set_option('future.no_silent_downcasting', True)`\n",
      "  out['label'] = disp.replace({\n"
     ]
    }
   ],
   "source": [
    "\n",
    "# We'll create a function to standardize columns for each table to a common schema:\n",
    "# Unified columns: ['id','label','period','duration','depth','prad','snr','st_teff','st_rad']\n",
    "# label: 1 = planet (confirmed or candidate), 0 = false positive / not planet\n",
    "import numpy as np\n",
    "import pandas as pd\n",
    "\n",
    "def standardize_koi(df):\n",
    "    out = pd.DataFrame()\n",
    "    out['id'] = df.get('kepoi_name')\n",
    "    disp = df.get('koi_disposition').astype(str).str.upper()\n",
    "    out['label'] = disp.replace({\n",
    "        'CANDIDATE': 1, 'CONFIRMED': 1, 'FALSE POSITIVE': 0, 'FALSE_POSITIVE': 0\n",
    "    })\n",
    "    out['period'] = pd.to_numeric(df.get('koi_period'), errors='coerce')\n",
    "    out['duration'] = pd.to_numeric(df.get('koi_duration'), errors='coerce')\n",
    "    out['depth'] = pd.to_numeric(df.get('koi_depth'), errors='coerce')\n",
    "    out['prad'] = pd.to_numeric(df.get('koi_prad'), errors='coerce')\n",
    "    out['snr'] = pd.to_numeric(df.get('koi_model_snr'), errors='coerce')\n",
    "    out['st_teff'] = np.nan\n",
    "    out['st_rad'] = np.nan\n",
    "    return out\n",
    "\n",
    "def standardize_toi(df):\n",
    "    out = pd.DataFrame()\n",
    "    out['id'] = df.get('toi')\n",
    "    disp = df.get('tfopwg_disp').astype(str).str.upper()\n",
    "    out['label'] = disp.replace({\n",
    "        'PC': 1, 'KP': 1, 'CONFIRMED': 1, 'CANDIDATE': 1,\n",
    "        'FP': 0, 'FALSE POSITIVE': 0\n",
    "    })\n",
    "    out['period'] = pd.to_numeric(df.get('pl_orbper'), errors='coerce')\n",
    "    out['duration'] = pd.to_numeric(df.get('pl_trandurh'), errors='coerce')\n",
    "    out['depth'] = pd.to_numeric(df.get('pl_trandep'), errors='coerce')\n",
    "    out['prad'] = pd.to_numeric(df.get('pl_rade'), errors='coerce')\n",
    "    out['snr'] = np.nan\n",
    "    out['st_teff'] = pd.to_numeric(df.get('st_teff'), errors='coerce')\n",
    "    out['st_rad'] = pd.to_numeric(df.get('st_rad'), errors='coerce')\n",
    "    return out\n",
    "\n",
    "def standardize_k2(df):\n",
    "    out = pd.DataFrame()\n",
    "    out['id'] = df.get('pl_name')\n",
    "    disp = df.get('disposition').astype(str).str.upper()\n",
    "    out['label'] = disp.replace({\n",
    "        'CANDIDATE': 1, 'CONFIRMED': 1, 'FALSE POSITIVE': 0, 'FALSE_POSITIVE': 0, 'FALSE_POSITIVE?': 0\n",
    "    })\n",
    "    out['period'] = pd.to_numeric(df.get('pl_orbper'), errors='coerce')\n",
    "    out['duration'] = pd.to_numeric(df.get('pl_trandur'), errors='coerce')\n",
    "    out['depth'] = pd.to_numeric(df.get('pl_trandepl'), errors='coerce')\n",
    "    out['prad'] = pd.to_numeric(df.get('pl_rade'), errors='coerce')\n",
    "    out['snr'] = np.nan\n",
    "    out['st_teff'] = pd.to_numeric(df.get('st_teff'), errors='coerce')\n",
    "    out['st_rad'] = pd.to_numeric(df.get('st_rad'), errors='coerce')\n",
    "    return out\n",
    "\n",
    "# Read and standardize\n",
    "df_koi = pd.read_csv(\"data/kepler_koi.csv\") if os.path.exists(\"data/kepler_koi.csv\") else pd.DataFrame()\n",
    "df_toi = pd.read_csv(\"data/tess_toi.csv\") if os.path.exists(\"data/tess_toi.csv\") else pd.DataFrame()\n",
    "df_k2  = pd.read_csv(\"data/k2_pandc.csv\") if os.path.exists(\"data/k2_pandc.csv\") else pd.DataFrame()\n",
    "\n",
    "std_koi = standardize_koi(df_koi) if not df_koi.empty else pd.DataFrame()\n",
    "std_toi = standardize_toi(df_toi) if not df_toi.empty else pd.DataFrame()\n",
    "std_k2  = standardize_k2(df_k2) if not df_k2.empty else pd.DataFrame()\n",
    "\n",
    "print('KOI standardized shape:', std_koi.shape)\n",
    "print('TOI standardized shape:', std_toi.shape)\n",
    "print('K2 standardized shape:', std_k2.shape)\n",
    "\n",
    "for name, df in [('KOI', std_koi), ('TOI', std_toi), ('K2', std_k2)]:\n",
    "    if df.empty:\n",
    "        continue\n",
    "    print(name, \"labels value counts (including NaN):\")\n",
    "    print(df['label'].value_counts(dropna=False))\n"
   ]
  },
  {
   "cell_type": "code",
   "execution_count": 4,
   "id": "f917ba87",
   "metadata": {},
   "outputs": [
    {
     "name": "stdout",
     "output_type": "stream",
     "text": [
      "\n",
      "Training on KOI\n"
     ]
    },
    {
     "name": "stderr",
     "output_type": "stream",
     "text": [
      "c:\\Users\\RAJ DAVE\\AppData\\Local\\Programs\\Python\\Python310\\lib\\site-packages\\sklearn\\impute\\_base.py:577: UserWarning: Skipping features without any observed values: ['st_teff' 'st_rad']. At least one non-missing value is needed for imputation with strategy='median'.\n",
      "  warnings.warn(\n",
      "c:\\Users\\RAJ DAVE\\AppData\\Local\\Programs\\Python\\Python310\\lib\\site-packages\\sklearn\\impute\\_base.py:577: UserWarning: Skipping features without any observed values: ['st_teff' 'st_rad']. At least one non-missing value is needed for imputation with strategy='median'.\n",
      "  warnings.warn(\n",
      "c:\\Users\\RAJ DAVE\\AppData\\Local\\Programs\\Python\\Python310\\lib\\site-packages\\sklearn\\impute\\_base.py:577: UserWarning: Skipping features without any observed values: ['st_teff' 'st_rad']. At least one non-missing value is needed for imputation with strategy='median'.\n",
      "  warnings.warn(\n"
     ]
    },
    {
     "name": "stdout",
     "output_type": "stream",
     "text": [
      "== Results for KOI (test set) ==\n",
      "\n",
      "              precision    recall  f1-score   support\n",
      "\n",
      "           0       0.82      0.81      0.81       968\n",
      "           1       0.81      0.81      0.81       945\n",
      "\n",
      "    accuracy                           0.81      1913\n",
      "   macro avg       0.81      0.81      0.81      1913\n",
      "weighted avg       0.81      0.81      0.81      1913\n",
      "\n",
      "ROC AUC: 0.8991544230180594\n"
     ]
    },
    {
     "data": {
      "image/png": "[encoded data removed]",
      "text/plain": [
       "<Figure size 400x400 with 2 Axes>"
      ]
     },
     "metadata": {},
     "output_type": "display_data"
    },
    {
     "name": "stdout",
     "output_type": "stream",
     "text": [
      "\n",
      "Training on TOI\n"
     ]
    },
    {
     "name": "stderr",
     "output_type": "stream",
     "text": [
      "c:\\Users\\RAJ DAVE\\AppData\\Local\\Programs\\Python\\Python310\\lib\\site-packages\\sklearn\\impute\\_base.py:577: UserWarning: Skipping features without any observed values: ['snr']. At least one non-missing value is needed for imputation with strategy='median'.\n",
      "  warnings.warn(\n"
     ]
    },
    {
     "name": "stdout",
     "output_type": "stream",
     "text": [
      "== Results for TOI (test set) ==\n",
      "\n",
      "              precision    recall  f1-score   support\n",
      "\n",
      "           0       0.55      0.36      0.44       239\n",
      "           1       0.87      0.93      0.90      1053\n",
      "\n",
      "    accuracy                           0.83      1292\n",
      "   macro avg       0.71      0.65      0.67      1292\n",
      "weighted avg       0.81      0.83      0.81      1292\n",
      "\n",
      "ROC AUC: 0.797303579730358\n"
     ]
    },
    {
     "name": "stderr",
     "output_type": "stream",
     "text": [
      "c:\\Users\\RAJ DAVE\\AppData\\Local\\Programs\\Python\\Python310\\lib\\site-packages\\sklearn\\impute\\_base.py:577: UserWarning: Skipping features without any observed values: ['snr']. At least one non-missing value is needed for imputation with strategy='median'.\n",
      "  warnings.warn(\n",
      "c:\\Users\\RAJ DAVE\\AppData\\Local\\Programs\\Python\\Python310\\lib\\site-packages\\sklearn\\impute\\_base.py:577: UserWarning: Skipping features without any observed values: ['snr']. At least one non-missing value is needed for imputation with strategy='median'.\n",
      "  warnings.warn(\n"
     ]
    },
    {
     "data": {
      "image/png": "[encoded data removed]",
      "text/plain": [
       "<Figure size 400x400 with 2 Axes>"
      ]
     },
     "metadata": {},
     "output_type": "display_data"
    },
    {
     "name": "stdout",
     "output_type": "stream",
     "text": [
      "K2 dataset missing - skipping\n"
     ]
    }
   ],
   "source": [
    "\n",
    "# Train a simple XGBoost classifier per dataset\n",
    "from sklearn.model_selection import train_test_split\n",
    "from sklearn.pipeline import Pipeline\n",
    "from sklearn.impute import SimpleImputer\n",
    "from sklearn.preprocessing import StandardScaler\n",
    "from xgboost import XGBClassifier\n",
    "from sklearn.metrics import classification_report, confusion_matrix, ConfusionMatrixDisplay, roc_auc_score\n",
    "import matplotlib.pyplot as plt\n",
    "\n",
    "def train_and_eval(df_std, name='dataset'):\n",
    "    df = df_std.dropna(subset=['label']).copy()\n",
    "    df = df[df['label'].isin([0,1])].copy()\n",
    "    if df.shape[0] < 50:\n",
    "        print(name, \"too few rows after filtering:\", df.shape[0])\n",
    "        return None\n",
    "    features = ['period','duration','prad','depth','st_teff','st_rad','snr']\n",
    "    X = df[features].copy()\n",
    "    y = df['label'].astype(int)\n",
    "    X_train, X_test, y_train, y_test = train_test_split(X, y, stratify=y, test_size=0.2, random_state=42)\n",
    "    pipe = Pipeline([\n",
    "        ('imputer', SimpleImputer(strategy='median')),\n",
    "        ('scaler', StandardScaler()),\n",
    "        ('xgb', XGBClassifier(n_estimators=200, use_label_encoder=False, eval_metric='logloss', random_state=42, verbosity=0))\n",
    "    ])\n",
    "    pipe.fit(X_train, y_train)\n",
    "    y_pred = pipe.predict(X_test)\n",
    "    y_proba = pipe.predict_proba(X_test)[:,1] if hasattr(pipe.named_steps['xgb'], \"predict_proba\") else None\n",
    "    print(f\"== Results for {name} (test set) ==\\n\")\n",
    "    print(classification_report(y_test, y_pred))\n",
    "    if len(y_test.unique())==2 and y_proba is not None:\n",
    "        try:\n",
    "            auc = roc_auc_score(y_test, y_proba)\n",
    "            print('ROC AUC:', auc)\n",
    "        except Exception as e:\n",
    "            print('ROC AUC error:', e)\n",
    "    cm = confusion_matrix(y_test, y_pred)\n",
    "    disp = ConfusionMatrixDisplay(confusion_matrix=cm, display_labels=['not-planet','planet'])\n",
    "    fig, ax = plt.subplots(figsize=(4,4))\n",
    "    disp.plot(ax=ax, cmap=plt.cm.Blues)\n",
    "    plt.title(f'Confusion Matrix: {name}')\n",
    "    plt.show()\n",
    "    return pipe, (X_test, y_test, y_pred)\n",
    "\n",
    "models = {}\n",
    "for name, dfstd in [('KOI', std_koi), ('TOI', std_toi), ('K2', std_k2)]:\n",
    "    if dfstd.empty:\n",
    "        print(name, \"dataset missing - skipping\")\n",
    "        continue\n",
    "    print('\\nTraining on', name)\n",
    "    res = train_and_eval(dfstd, name=name)\n",
    "    if res:\n",
    "        models[name] = res[0]\n"
   ]
  },
  {
   "cell_type": "code",
   "execution_count": 5,
   "id": "74eb3979",
   "metadata": {},
   "outputs": [
    {
     "name": "stdout",
     "output_type": "stream",
     "text": [
      "Combined shape before dropna label filter: (17267, 9)\n",
      "Combined shape after label filtering: (16023, 9)\n",
      "Combined shape after dropping rows with <2 features present: (16023, 9)\n",
      "== Results for COMBINED (test set) ==\n",
      "\n",
      "              precision    recall  f1-score   support\n",
      "\n",
      "           0       0.79      0.71      0.75      1207\n",
      "           1       0.83      0.88      0.86      1998\n",
      "\n",
      "    accuracy                           0.82      3205\n",
      "   macro avg       0.81      0.80      0.80      3205\n",
      "weighted avg       0.82      0.82      0.82      3205\n",
      "\n",
      "ROC AUC: 0.8771126138566073\n"
     ]
    },
    {
     "data": {
      "image/png": "[encoded data removed]",
      "text/plain": [
       "<Figure size 400x400 with 2 Axes>"
      ]
     },
     "metadata": {},
     "output_type": "display_data"
    }
   ],
   "source": [
    "\n",
    "# Combine standardized datasets (drop duplicates by id if present)\n",
    "import pandas as pd\n",
    "combined = pd.concat([d for d in [std_koi, std_toi, std_k2] if not d.empty], ignore_index=True)\n",
    "print('Combined shape before dropna label filter:', combined.shape)\n",
    "combined = combined.dropna(subset=['label'])\n",
    "combined = combined[combined['label'].isin([0,1])].copy()\n",
    "print('Combined shape after label filtering:', combined.shape)\n",
    "featcols = ['period','duration','prad','depth','st_teff','st_rad','snr']\n",
    "combined = combined.dropna(thresh=2, subset=featcols)\n",
    "print('Combined shape after dropping rows with <2 features present:', combined.shape)\n",
    "\n",
    "combined_model = None\n",
    "if combined.shape[0] >= 50:\n",
    "    combined_model, _ = train_and_eval(combined, name='COMBINED')\n",
    "    models['COMBINED'] = combined_model\n",
    "else:\n",
    "    print('Combined dataset too small to train after filtering.')\n"
   ]
  },
  {
   "cell_type": "code",
   "execution_count": 6,
   "id": "17adcb77",
   "metadata": {},
   "outputs": [
    {
     "name": "stdout",
     "output_type": "stream",
     "text": [
      "Saved models/xgb_koi.joblib\n"
     ]
    },
    {
     "name": "stdout",
     "output_type": "stream",
     "text": [
      "Saved models/xgb_toi.joblib\n",
      "Saved models/xgb_combined.joblib\n",
      "\n",
      "Done. Models saved to models/*.joblib.\n"
     ]
    }
   ],
   "source": [
    "\n",
    "# Save models to disk\n",
    "import joblib, os\n",
    "os.makedirs('models', exist_ok=True)\n",
    "for k, v in models.items():\n",
    "    fname = f\"models/xgb_{k.lower()}.joblib\"\n",
    "    joblib.dump(v, fname)\n",
    "    print('Saved', fname)\n",
    "\n",
    "print('\\nDone. Models saved to models/*.joblib.')\n"
   ]
  }
 ],
 "metadata": {
  "kernelspec": {
   "display_name": "Python 3",
   "language": "python",
   "name": "python3"
  },
  "language_info": {
   "codemirror_mode": {
    "name": "ipython",
    "version": 3
   },
   "file_extension": ".py",
   "mimetype": "text/x-python",
   "name": "python",
   "nbconvert_exporter": "python",
   "pygments_lexer": "ipython3",
   "version": "3.10.0"
  }
 },
 "nbformat": 4,
 "nbformat_minor": 5
}
